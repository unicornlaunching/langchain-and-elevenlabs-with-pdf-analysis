{
  "nbformat": 4,
  "nbformat_minor": 0,
  "metadata": {
    "colab": {
      "provenance": [],
      "authorship_tag": "ABX9TyNYpVNgq2cTXSQyh8nhhWIA",
      "include_colab_link": true
    },
    "kernelspec": {
      "name": "python3",
      "display_name": "Python 3"
    },
    "language_info": {
      "name": "python"
    }
  },
  "cells": [
    {
      "cell_type": "markdown",
      "metadata": {
        "id": "view-in-github",
        "colab_type": "text"
      },
      "source": [
        "<a href=\"https://colab.research.google.com/github/unicornlaunching/langchain-and-elevenlabs-with-pdf-analysis/blob/main/Python_Quickstart_OpenAI_x_Langchain_x_ElevenLabs_x_PDFs_for_personal_use.ipynb\" target=\"_parent\"><img src=\"https://colab.research.google.com/assets/colab-badge.svg\" alt=\"Open In Colab\"/></a>"
      ]
    },
    {
      "cell_type": "code",
      "source": [
        "!pip install langchain\n",
        "!pip install openai\n",
        "!pip install python-magic\n",
        "!pip install nltk\n",
        "\n",
        "!pip install unstructured\n",
        "!pip install python-magic-bin\n",
        "!pip install chromadb"
      ],
      "metadata": {
        "id": "s6ejQJdldujH"
      },
      "execution_count": null,
      "outputs": []
    },
    {
      "cell_type": "code",
      "source": [
        "from langchain.embeddings.openai import OpenAIEmbeddings\n",
        "from langchain.vectorstores import Chroma\n",
        "from langchain.text_splitter import CharacterTextSplitter\n",
        "from langchain import OpenAI, VectorDBQA\n",
        "from langchain.document_loaders import DirectoryLoader\n",
        "import magic\n",
        "import os\n",
        "import nltk"
      ],
      "metadata": {
        "id": "WUrVfH8td3-e"
      },
      "execution_count": 10,
      "outputs": []
    },
    {
      "cell_type": "markdown",
      "source": [
        "notice where I load the data"
      ],
      "metadata": {
        "id": "6xKJ6ddOiLK5"
      }
    },
    {
      "cell_type": "code",
      "source": [
        "loader = DirectoryLoader('../content/data', glob='**/*.pdf')"
      ],
      "metadata": {
        "id": "Ik-pjhgqd30G"
      },
      "execution_count": 11,
      "outputs": []
    },
    {
      "cell_type": "code",
      "source": [
        "!pip install unstructured "
      ],
      "metadata": {
        "id": "UstN_gWredDT"
      },
      "execution_count": null,
      "outputs": []
    },
    {
      "cell_type": "code",
      "source": [
        "!pip install unstructured[local-inference]"
      ],
      "metadata": {
        "id": "-5r1cWtwem2O"
      },
      "execution_count": null,
      "outputs": []
    },
    {
      "cell_type": "code",
      "source": [
        "documents = loader.load()"
      ],
      "metadata": {
        "colab": {
          "base_uri": "https://localhost:8080/"
        },
        "id": "UdTkfDrpeaYp",
        "outputId": "3ba0e6c2-76be-45ff-993d-0f04cee55780"
      },
      "execution_count": 14,
      "outputs": [
        {
          "output_type": "stream",
          "name": "stderr",
          "text": [
            "WARNING:unstructured:detectron2 is not installed. Cannot use the hi_res partitioning strategy. Falling back to partitioning with the fast strategy.\n"
          ]
        }
      ]
    },
    {
      "cell_type": "code",
      "source": [
        "text_splitter = CharacterTextSplitter(chunk_size=1000, chunk_overlap=0)"
      ],
      "metadata": {
        "id": "KVcr4OY2eaLa"
      },
      "execution_count": 15,
      "outputs": []
    },
    {
      "cell_type": "code",
      "source": [
        "texts = text_splitter.split_documents(documents)"
      ],
      "metadata": {
        "id": "EmvrxisXe3aq"
      },
      "execution_count": 16,
      "outputs": []
    },
    {
      "cell_type": "markdown",
      "source": [
        "Replace\n",
        "REPLACE_THIS_TEXT_WITH_YOUR_OPEN_AI_KEY_NO_QUOTATION_MARKS\n",
        "with your openAI API key"
      ],
      "metadata": {
        "id": "IqAI-h_eicp2"
      }
    },
    {
      "cell_type": "code",
      "source": [
        "%env OPENAI_API_KEY=REPLACE_THIS_TEXT_WITH_YOUR_OPEN_AI_KEY_NO_QUOTATION_MARKS"
      ],
      "metadata": {
        "id": "CEQ2jSIwfE-9"
      },
      "execution_count": null,
      "outputs": []
    },
    {
      "cell_type": "code",
      "source": [
        "embeddings = OpenAIEmbeddings(openai_api_key=os.environ['OPENAI_API_KEY'])\n"
      ],
      "metadata": {
        "id": "ZDSSI_-ae5my"
      },
      "execution_count": 18,
      "outputs": []
    },
    {
      "cell_type": "code",
      "source": [
        "docsearch = Chroma.from_documents(texts, embeddings)"
      ],
      "metadata": {
        "colab": {
          "base_uri": "https://localhost:8080/"
        },
        "id": "WD-cuEbxfMdU",
        "outputId": "8fd86c3d-e80d-464a-a3ba-9d396d128571"
      },
      "execution_count": 19,
      "outputs": [
        {
          "output_type": "stream",
          "name": "stderr",
          "text": [
            "WARNING:chromadb:Using embedded DuckDB without persistence: data will be transient\n"
          ]
        }
      ]
    },
    {
      "cell_type": "code",
      "source": [
        "qa = VectorDBQA.from_chain_type(llm=OpenAI(), chain_type=\"stuff\", vectorstore=docsearch)"
      ],
      "metadata": {
        "id": "pi_qcJHqfTYs",
        "colab": {
          "base_uri": "https://localhost:8080/"
        },
        "outputId": "f33587a4-2200-48a7-866b-dc9d27d454dd"
      },
      "execution_count": 20,
      "outputs": [
        {
          "output_type": "stream",
          "name": "stderr",
          "text": [
            "/usr/local/lib/python3.9/dist-packages/langchain/chains/retrieval_qa/base.py:183: UserWarning: `VectorDBQA` is deprecated - please use `from langchain.chains import RetrievalQA`\n",
            "  warnings.warn(\n"
          ]
        }
      ]
    },
    {
      "cell_type": "code",
      "source": [
        "query = \"Why are people depressed?\"\n",
        "qa.run(query)"
      ],
      "metadata": {
        "id": "CkATgjKufZpH",
        "colab": {
          "base_uri": "https://localhost:8080/",
          "height": 71
        },
        "outputId": "4f56327a-1f88-4cdb-a84d-6ac963b93164"
      },
      "execution_count": 21,
      "outputs": [
        {
          "output_type": "execute_result",
          "data": {
            "text/plain": [
              "' People can become depressed for many reasons, such as feeling inadequate or having a need for approval and acceptance that is never satisfied. It can also be due to a feeling of being isolated from others and not recognizing the interconnectedness of all things.'"
            ],
            "application/vnd.google.colaboratory.intrinsic+json": {
              "type": "string"
            }
          },
          "metadata": {},
          "execution_count": 21
        }
      ]
    },
    {
      "cell_type": "code",
      "source": [
        "query = \"summarize the pdf stepping\"\n",
        "qa.run(query)"
      ],
      "metadata": {
        "id": "beigRDLJfeVP",
        "colab": {
          "base_uri": "https://localhost:8080/",
          "height": 107
        },
        "outputId": "6349ee22-2d3d-493f-f54e-ea3d1904cd8e"
      },
      "execution_count": 22,
      "outputs": [
        {
          "output_type": "execute_result",
          "data": {
            "text/plain": [
              "' The pdf discusses a practice of stepping that involves releasing the need for words and views to reach a deeper truth. It suggests that we use our attention to observe our own mind without judgment, recognizing the need for the mind to manage concepts and hold conflicting ideas at bay. We must also be aware of our own inner narrative and be willing to accept experiences that challenge our view. Finally, it suggests that once we have used words and views to reach a deeper truth, we should release them and no longer rely on them.'"
            ],
            "application/vnd.google.colaboratory.intrinsic+json": {
              "type": "string"
            }
          },
          "metadata": {},
          "execution_count": 22
        }
      ]
    },
    {
      "cell_type": "code",
      "source": [
        "qa = VectorDBQA.from_chain_type(llm=OpenAI(), chain_type=\"stuff\", vectorstore=docsearch, return_source_documents=True)\n",
        "query = \"where does the lay buddhist sit? Cite the relevant quote.\"\n",
        "result = qa({\"query\": query})"
      ],
      "metadata": {
        "id": "b-ejDn_JfpWW"
      },
      "execution_count": 25,
      "outputs": []
    },
    {
      "cell_type": "code",
      "source": [
        "result['result']\n"
      ],
      "metadata": {
        "id": "d68AMiR7fwPy",
        "colab": {
          "base_uri": "https://localhost:8080/",
          "height": 53
        },
        "outputId": "ca543055-dfe7-463c-a62d-fef67188efc5"
      },
      "execution_count": 26,
      "outputs": [
        {
          "output_type": "execute_result",
          "data": {
            "text/plain": [
              "' The lay buddhist does not try to arrange her life to fit her spiritual intention but rather brings forth that intention to every facet of her life.'"
            ],
            "application/vnd.google.colaboratory.intrinsic+json": {
              "type": "string"
            }
          },
          "metadata": {},
          "execution_count": 26
        }
      ]
    },
    {
      "cell_type": "code",
      "source": [
        "result['source_documents']\n"
      ],
      "metadata": {
        "id": "3ouhs4e8fwF4",
        "colab": {
          "base_uri": "https://localhost:8080/"
        },
        "outputId": "d703998c-eb6b-4883-b14b-676043fcb271"
      },
      "execution_count": 27,
      "outputs": [
        {
          "output_type": "execute_result",
          "data": {
            "text/plain": [
              "[Document(page_content='everytyhing is accessible at all times and in all places. we are not going anywhere\\n\\nor becoming anyone. we are seeing through the delirium of our mental\\n\\nassumptions and abiding in a true and natural relationshp to all things. the\\n\\noptimum environment for awakening is where we are, and nothing needs to be\\n\\nadded or subtracted to imporove our opportunities\\n\\n2 the lay buddhist does not try to arrange her life to fit her spiritual intention but\\n\\nrather brings forth that intention to every facet of her life\\n\\nsection\\n\\nthe way spiritual practice evolves over time is analogous to being in a\\n\\nroom full of mirrors. as we approach the mirrors we see our pox\\n\\nmarks, scars, and warts reflected. we see our selfishness and vanity\\n\\nand how many of our altruisitc actions concern our self-image. we\\n\\nwant nothing more than to run and hide from what we see, but where\\n\\ndo we hide when everywhere we turn is another mirror?\\n\\nat this point it is alread too late to leave the room, so the alternative is', metadata={'source': '../content/data/stepping.pdf'}),\n",
              " Document(page_content='We begin to further understand that the cause of our suffering is not what we do\\n\\nbut the way we perceive, and until this obstalce is addressed all actions of body,\\n\\nspeech, and mind will predictably reinforce our old perceptoins of seld and other,\\n\\nproblem and solution, and limitation and freedom\\n\\nthe buddha made the realization and integration of anatta central to his teaching.\\n\\nwe are without separate existence; that is a fact. when we align all our practices\\n\\nand efforts with this fact, the spritiual path becomes quite simple and transforms\\n\\neverything we do. all the monasteries, renunciations, restraints, skilful means, the\\n\\nfull-lotus posture, and nose-tip awareness, all of it, has only this intended\\n\\npurposes.\\n\\nyou are like a man holding a flashlight, trying to run beyond its beam. the view you\\n\\nare holding within the methods you are using is undermining your intent. -\\n\\nnisargadatta maharaj\\n\\nfrom this vantage point there seemed far too much methodology in the buddhism i', metadata={'source': '../content/data/stepping.pdf'}),\n",
              " Document(page_content='Ending our limited and isolated position is what motivates us to search\\n\\nfor a spiritual cure in the first place. we feel restricted and defined\\n\\nwithin our pain, yet something inside us knows we are more than what\\n\\nwe have taken ourselves to be. we would like to think that we could\\n\\nleave all the pain aside and go directly to the payoff of\\n\\ninterconnectedness, but for most of us that is not the case. / one of the\\n\\nhardest lessons on any spiritual path is to understand that\\n\\ninterconnection comes from the wisdom discovered through exposure\\n\\nto our pain, not in turning away from it.\\n\\nas we practice, so we will become. if we live and practice as a\\n\\nseparate, individuated self, we will harden the assumptions around that\\n\\nbelief and continue into the future isolated from one another\\n\\n[][][][][][][][when our life focuses on our own welfare, the buddha seems\\n\\nto be saying we are entombing ourselves within our own misdirected\\n\\nthoughts', metadata={'source': '../content/data/stepping.pdf'}),\n",
              " Document(page_content=\"Notes\\n\\nFinding Interconnection from the pain of contraction\\n\\nintro\\n\\nThe first noble truth of the buddha is not only acknowledgment of\\n\\nconflict and struggle in our life, but an invitation to address them. the b\\n\\nis saying in effect that the rd to liberation lies through understanding\\n\\nhow and why we suffer. 'i teach only suffering and its ending'\\n\\n[]The information we need is always present within our mind. generally\\n\\nwe refuse to listen, not from obstinacy, but because our conditioning is\\n\\nto move away from rather than toward the unpleasant.\\n\\n[BIIIIIIIIIIIIIIIIG]our resistance to reality, not reality itself, creates\\n\\nsuffering.\\n\\n[]][when reality is formed through our personal view, we attempt to\\n\\nthink our way out of pain, which simultaneously maintains our story\\n\\nand perpetuates the pain...through a specific problem may be partially\\n\\nresolved through our triedandtrue methods of the past, conditioned\\n\\nresponses will never end sufferingl problems end when we perceive\", metadata={'source': '../content/data/stepping.pdf'})]"
            ]
          },
          "metadata": {},
          "execution_count": 27
        }
      ]
    },
    {
      "cell_type": "code",
      "source": [
        "qa = VectorDBQA.from_chain_type(llm=OpenAI(), chain_type=\"stuff\", vectorstore=docsearch, return_source_documents=True)\n",
        "query = \"what was the quote about reading yesterday's newspaper for today's news? provide source\"\n",
        "result = qa({\"query\": query})"
      ],
      "metadata": {
        "id": "B0uciJ0Af62M"
      },
      "execution_count": 28,
      "outputs": []
    },
    {
      "cell_type": "code",
      "source": [
        "result['result']\n"
      ],
      "metadata": {
        "colab": {
          "base_uri": "https://localhost:8080/",
          "height": 53
        },
        "id": "1MJGDqNbgCDm",
        "outputId": "ff153910-e4a4-42d7-d608-0f934244d761"
      },
      "execution_count": 29,
      "outputs": [
        {
          "output_type": "execute_result",
          "data": {
            "text/plain": [
              "' The quote is \"this assumed reality might not be any more reliable than reading last year\\'s newspaper for today\\'s news\" and it is from the first piece of context.'"
            ],
            "application/vnd.google.colaboratory.intrinsic+json": {
              "type": "string"
            }
          },
          "metadata": {},
          "execution_count": 29
        }
      ]
    },
    {
      "cell_type": "code",
      "source": [
        "result['source_documents']\n"
      ],
      "metadata": {
        "id": "-NPOD-wPgGKV",
        "colab": {
          "base_uri": "https://localhost:8080/"
        },
        "outputId": "9dc5c435-cb53-47de-c6dd-27b59a68797b"
      },
      "execution_count": 30,
      "outputs": [
        {
          "output_type": "execute_result",
          "data": {
            "text/plain": [
              "[Document(page_content=\"We are constantly constructing our present reality from past\\n\\nexperiences and living out the present as if it were the past.\\n\\n[INTERPRETING HOW I FEEL] What is astonishing is the validity we\\n\\ngive our reality. if we feel or think something, then it must be true, but if\\n\\nthe very thoughts and emotions on which that assumption is based are\\n\\nconditioned from past circumstances, how valid can they be? this\\n\\nassumed reality might not be any more rliable than reading last year's\\n\\nnewspaper for today's news.\\n\\nThe sense of self\\n\\nintro\\n\\nthe buddha ttaught that over time, the unobserved thought settles into\\n\\ncharacter; character is the way we see life.\\n\\n[][][][][][][][]our personal tale with its conflict, pain, drama, and\\n\\nmomentum is predicated on the single untested and unquestioned\\n\\nbelief that 'i'exist.\\n\\nSelflesness\\n\\nOnce freed of the constricting bonds of a self-image, the heart is free\\n\\nto open and be fully affected. all the qualities we spend our spiritual\", metadata={'source': '../content/data/stepping.pdf'}),\n",
              " Document(page_content='other side. our ability to listen is directly related to our abilty to switch\\n\\nviews. to listen to the person requires we drop our righteous view, and\\n\\nsince anger cannot be sustained without righteousness, it falls away.\\n\\nreverse cueing only works if the intention to connect is stronger than\\n\\nthe motivation to remain separate and within our story.\\n\\n2 most of the disconnecting emotions cannot be maintained within the\\n\\ninterconnedctedness of wise view. Say not two\\n\\nat some point in our maturation, turning away from our emotions and\\n\\ntoward further separation is no longer acceptable\\n\\na key component of awakening is investigation. we see how essential\\n\\nit is to explore pain, regardless of where the examination takes us...this\\n\\ninvestigation continues until there is no doer of the deed and no one\\n\\nclaiming responsibility for the action taken\\n\\nThe View of Interconnection\\n\\nintro\\n\\nThe real voyage of discovery consists not in seeking new landscapes,\\n\\nbut in having new eyes - proust', metadata={'source': '../content/data/stepping.pdf'}),\n",
              " Document(page_content='had been practicing and not enough release\\n\\nonce we abandon the belief that there is a more spiritually useful moment than the\\n\\none we are in, we have embraced our life and infused it with the energy for\\n\\nawakening\\n\\nQuestioning the Known\\n\\nintro\\n\\nsince our being and life are not two different events, life can never be\\n\\nknown for what it truly is, only for what the mind makes it as it fractures\\n\\nlife into an objective experience\\n\\nThe SOS forms conclusiosn bc it fears living within the ambiguity of a\\n\\nquestion. questions are moments of wonderment but do not provide\\n\\nthe security of assurance that the self seeks. as we journey along our\\n\\nspiritual path, we become more willing to move from mental certainty to\\n\\nthe open amazement of not knowing\\n\\nthe paradox is that we can only move forward when our security is\\n\\nthreatened, bc we are never further from the truth than when we are\\n\\ncertain\\n\\n[wonderment] questions are rarely directed toward our reality, bc that is\\n\\nfar too frightening.', metadata={'source': '../content/data/stepping.pdf'}),\n",
              " Document(page_content=\"the mind's responsibility is to manage the concepts it knows and to hold conflicting\\n\\nideas at bay in order to firmly fix reality and our place within it. our inner narrative\\n\\ntakes the agreed-upon view and applies it to the details of our life. it becomes our\\n\\nstory and we are the storytellers. when the story is threatened, the wagons are\\n\\ncircled and our defenses contract around our view. most experiences that\\n\\nthreaten the view are denied, avoided, or dismissed, and those that reinforce it are\\n\\nincorporated. we end up strengthening the sos with every perception\\n\\nwords and views are approximations or symbols of reality. we use them as ho'l\\n\\nmarkers toward the v'l dimension. eventually the words and views that direct our\\n\\npractice must come to an end. the b uses the simile of someone who carries a raft\\n\\nacross dry land once she has used it to cross over a body of water. he suggest we\\n\\nrelease the raft once its usefulness is fulfilled.\", metadata={'source': '../content/data/stepping.pdf'})]"
            ]
          },
          "metadata": {},
          "execution_count": 30
        }
      ]
    },
    {
      "cell_type": "code",
      "source": [
        "qa = VectorDBQA.from_chain_type(llm=OpenAI(), chain_type=\"stuff\", vectorstore=docsearch, return_source_documents=True)\n",
        "query = \"list all of the bullet points with []\"\n",
        "result = qa({\"query\": query})"
      ],
      "metadata": {
        "id": "PxzBir_RhGVU"
      },
      "execution_count": 31,
      "outputs": []
    },
    {
      "cell_type": "code",
      "source": [
        "result['result']"
      ],
      "metadata": {
        "id": "FWE-P2VUhKa9",
        "colab": {
          "base_uri": "https://localhost:8080/",
          "height": 160
        },
        "outputId": "1e92ad68-d2f8-4ea8-eac6-e75dc3e585a3"
      },
      "execution_count": 32,
      "outputs": [
        {
          "output_type": "execute_result",
          "data": {
            "text/plain": [
              "\" 1. the purpose of meditation is to inform us about the true nature of relationships \\n2. the point of meditation is to see what we are bringing to experience and then to see that whatever we bring is extra and needs to be discarded \\n3. to align with this new orientation (wise view), we only need to accept what life is offering \\n4. contraction, disappointment, dissatisfaction, denial, and all the variations of suffering are the reasons most of us search for a remedy \\n5. freeing the emotional body takes a different level of intention than freeing the mind from thought \\n6. it requires the willingness to feel the pain of our life \\n7. unlike thought, the emotional body is an area of awakening that is better understood through the whole array of life's activities rather than in solitude \\n8. we can use practices like S to energetically raise us above the level of personal pain without ever actually addressing it\""
            ],
            "application/vnd.google.colaboratory.intrinsic+json": {
              "type": "string"
            }
          },
          "metadata": {},
          "execution_count": 32
        }
      ]
    },
    {
      "cell_type": "code",
      "source": [
        "qa = VectorDBQA.from_chain_type(llm=OpenAI(), chain_type=\"stuff\", vectorstore=docsearch, return_source_documents=True)\n",
        "query = \"write a summary of the document in 100 words for someone who finds it hard to meditate\"\n",
        "result = qa({\"query\": query})"
      ],
      "metadata": {
        "id": "eyYqFLW_hV1S"
      },
      "execution_count": 33,
      "outputs": []
    },
    {
      "cell_type": "code",
      "source": [
        "result['result']"
      ],
      "metadata": {
        "id": "jKtoKHLxhrhw",
        "colab": {
          "base_uri": "https://localhost:8080/",
          "height": 142
        },
        "outputId": "2476b457-db73-44f8-d08f-a9649a4a50ad"
      },
      "execution_count": 34,
      "outputs": [
        {
          "output_type": "execute_result",
          "data": {
            "text/plain": [
              "' This document explores the idea of meditation and how it can help us better understand our relationships and life. It encourages us to accept what life is offering us, and that contraction, disappointment, dissatisfaction, and denial can all be seen as reasons we search for a remedy. In order to align with this new orientation, we need to surrender our will and trust in mindfulness. This can be done by connecting with everything, but believing nothing. It also suggests that when we realize how hopelessly lost we are in thinking, we can release the need to control the situation. In this way, we can move through our emotions with a quiet attention that leads to a harmonious and still mind, where we can see oneness.'"
            ],
            "application/vnd.google.colaboratory.intrinsic+json": {
              "type": "string"
            }
          },
          "metadata": {},
          "execution_count": 34
        }
      ]
    },
    {
      "cell_type": "code",
      "source": [
        "type(result['result'])"
      ],
      "metadata": {
        "id": "p97Fi4FJkkV1",
        "colab": {
          "base_uri": "https://localhost:8080/"
        },
        "outputId": "fe871350-434e-4d2c-905f-b2f5493558b2"
      },
      "execution_count": 35,
      "outputs": [
        {
          "output_type": "execute_result",
          "data": {
            "text/plain": [
              "str"
            ]
          },
          "metadata": {},
          "execution_count": 35
        }
      ]
    },
    {
      "cell_type": "code",
      "source": [
        "!pip install elevenlabslib"
      ],
      "metadata": {
        "id": "a9cqnEdUlcIR",
        "colab": {
          "base_uri": "https://localhost:8080/",
          "height": 574
        },
        "outputId": "2a3cc3b1-ea18-40c3-f9a0-832215ba680b"
      },
      "execution_count": 36,
      "outputs": [
        {
          "output_type": "stream",
          "name": "stdout",
          "text": [
            "Looking in indexes: https://pypi.org/simple, https://us-python.pkg.dev/colab-wheels/public/simple/\n",
            "Collecting elevenlabslib\n",
            "  Downloading elevenlabslib-0.4.1-py3-none-any.whl (18 kB)\n",
            "Requirement already satisfied: soundfile in /usr/local/lib/python3.9/dist-packages (from elevenlabslib) (0.12.1)\n",
            "Requirement already satisfied: numpy in /usr/local/lib/python3.9/dist-packages (from elevenlabslib) (1.22.4)\n",
            "Collecting typing\n",
            "  Downloading typing-3.7.4.3.tar.gz (78 kB)\n",
            "\u001b[2K     \u001b[90m━━━━━━━━━━━━━━━━━━━━━━━━━━━━━━━━━━━━━━━━\u001b[0m \u001b[32m78.6/78.6 KB\u001b[0m \u001b[31m8.6 MB/s\u001b[0m eta \u001b[36m0:00:00\u001b[0m\n",
            "\u001b[?25h  Preparing metadata (setup.py) ... \u001b[?25l\u001b[?25hdone\n",
            "Requirement already satisfied: requests in /usr/local/lib/python3.9/dist-packages (from elevenlabslib) (2.28.2)\n",
            "Collecting sounddevice\n",
            "  Downloading sounddevice-0.4.6-py3-none-any.whl (31 kB)\n",
            "Requirement already satisfied: urllib3<1.27,>=1.21.1 in /usr/local/lib/python3.9/dist-packages (from requests->elevenlabslib) (1.26.15)\n",
            "Requirement already satisfied: charset-normalizer<4,>=2 in /usr/local/lib/python3.9/dist-packages (from requests->elevenlabslib) (2.0.12)\n",
            "Requirement already satisfied: idna<4,>=2.5 in /usr/local/lib/python3.9/dist-packages (from requests->elevenlabslib) (3.4)\n",
            "Requirement already satisfied: certifi>=2017.4.17 in /usr/local/lib/python3.9/dist-packages (from requests->elevenlabslib) (2022.12.7)\n",
            "Requirement already satisfied: CFFI>=1.0 in /usr/local/lib/python3.9/dist-packages (from sounddevice->elevenlabslib) (1.15.1)\n",
            "Requirement already satisfied: pycparser in /usr/local/lib/python3.9/dist-packages (from CFFI>=1.0->sounddevice->elevenlabslib) (2.21)\n",
            "Building wheels for collected packages: typing\n",
            "  Building wheel for typing (setup.py) ... \u001b[?25l\u001b[?25hdone\n",
            "  Created wheel for typing: filename=typing-3.7.4.3-py3-none-any.whl size=26321 sha256=db5d70785a424eabd23e12dab32081ac8711aae0d28f34abd2bd36ebd4b085cf\n",
            "  Stored in directory: /root/.cache/pip/wheels/fa/17/1f/332799f975d1b2d7f9b3f33bbccf65031e794717d24432caee\n",
            "Successfully built typing\n",
            "Installing collected packages: typing, sounddevice, elevenlabslib\n",
            "Successfully installed elevenlabslib-0.4.1 sounddevice-0.4.6 typing-3.7.4.3\n"
          ]
        },
        {
          "output_type": "display_data",
          "data": {
            "application/vnd.colab-display-data+json": {
              "pip_warning": {
                "packages": [
                  "typing"
                ]
              }
            }
          },
          "metadata": {}
        }
      ]
    },
    {
      "cell_type": "code",
      "source": [
        "!apt-get install -y libportaudio2 libportaudiocpp0 portaudio19-dev\n"
      ],
      "metadata": {
        "id": "kFpjg0mylrZV",
        "colab": {
          "base_uri": "https://localhost:8080/"
        },
        "outputId": "d4d854c6-0e32-49ab-a8f1-c46f1f203d15"
      },
      "execution_count": 37,
      "outputs": [
        {
          "output_type": "stream",
          "name": "stdout",
          "text": [
            "Reading package lists... Done\n",
            "Building dependency tree       \n",
            "Reading state information... Done\n",
            "The following package was automatically installed and is no longer required:\n",
            "  libnvidia-common-525\n",
            "Use 'apt autoremove' to remove it.\n",
            "Suggested packages:\n",
            "  portaudio19-doc\n",
            "The following NEW packages will be installed:\n",
            "  libportaudio2 libportaudiocpp0 portaudio19-dev\n",
            "0 upgraded, 3 newly installed, 0 to remove and 23 not upgraded.\n",
            "Need to get 188 kB of archives.\n",
            "After this operation, 926 kB of additional disk space will be used.\n",
            "Get:1 http://archive.ubuntu.com/ubuntu focal/universe amd64 libportaudio2 amd64 19.6.0-1build1 [65.4 kB]\n",
            "Get:2 http://archive.ubuntu.com/ubuntu focal/universe amd64 libportaudiocpp0 amd64 19.6.0-1build1 [16.1 kB]\n",
            "Get:3 http://archive.ubuntu.com/ubuntu focal/universe amd64 portaudio19-dev amd64 19.6.0-1build1 [106 kB]\n",
            "Fetched 188 kB in 0s (1,758 kB/s)\n",
            "Selecting previously unselected package libportaudio2:amd64.\n",
            "(Reading database ... 128293 files and directories currently installed.)\n",
            "Preparing to unpack .../libportaudio2_19.6.0-1build1_amd64.deb ...\n",
            "Unpacking libportaudio2:amd64 (19.6.0-1build1) ...\n",
            "Selecting previously unselected package libportaudiocpp0:amd64.\n",
            "Preparing to unpack .../libportaudiocpp0_19.6.0-1build1_amd64.deb ...\n",
            "Unpacking libportaudiocpp0:amd64 (19.6.0-1build1) ...\n",
            "Selecting previously unselected package portaudio19-dev:amd64.\n",
            "Preparing to unpack .../portaudio19-dev_19.6.0-1build1_amd64.deb ...\n",
            "Unpacking portaudio19-dev:amd64 (19.6.0-1build1) ...\n",
            "Setting up libportaudio2:amd64 (19.6.0-1build1) ...\n",
            "Setting up libportaudiocpp0:amd64 (19.6.0-1build1) ...\n",
            "Setting up portaudio19-dev:amd64 (19.6.0-1build1) ...\n",
            "Processing triggers for libc-bin (2.31-0ubuntu9.9) ...\n"
          ]
        }
      ]
    },
    {
      "cell_type": "code",
      "source": [
        "!pip install pydub"
      ],
      "metadata": {
        "id": "67Bmfdawlwdr",
        "colab": {
          "base_uri": "https://localhost:8080/"
        },
        "outputId": "63066929-b113-4bdd-9c14-033625ff4843"
      },
      "execution_count": 38,
      "outputs": [
        {
          "output_type": "stream",
          "name": "stdout",
          "text": [
            "Looking in indexes: https://pypi.org/simple, https://us-python.pkg.dev/colab-wheels/public/simple/\n",
            "Collecting pydub\n",
            "  Downloading pydub-0.25.1-py2.py3-none-any.whl (32 kB)\n",
            "Installing collected packages: pydub\n",
            "Successfully installed pydub-0.25.1\n"
          ]
        }
      ]
    },
    {
      "cell_type": "code",
      "source": [
        "!pip install --upgrade elevenlabs\n"
      ],
      "metadata": {
        "id": "l2KsQOIinhvY",
        "colab": {
          "base_uri": "https://localhost:8080/"
        },
        "outputId": "0912d7cb-3f24-482d-e888-87cf0755acfb"
      },
      "execution_count": 40,
      "outputs": [
        {
          "output_type": "stream",
          "name": "stdout",
          "text": [
            "Looking in indexes: https://pypi.org/simple, https://us-python.pkg.dev/colab-wheels/public/simple/\n",
            "Collecting elevenlabs\n",
            "  Downloading elevenlabs-0.1.1.tar.gz (5.9 kB)\n",
            "  Preparing metadata (setup.py) ... \u001b[?25l\u001b[?25hdone\n",
            "Requirement already satisfied: requests in /usr/local/lib/python3.9/dist-packages (from elevenlabs) (2.28.2)\n",
            "Requirement already satisfied: urllib3<1.27,>=1.21.1 in /usr/local/lib/python3.9/dist-packages (from requests->elevenlabs) (1.26.15)\n",
            "Requirement already satisfied: charset-normalizer<4,>=2 in /usr/local/lib/python3.9/dist-packages (from requests->elevenlabs) (2.0.12)\n",
            "Requirement already satisfied: certifi>=2017.4.17 in /usr/local/lib/python3.9/dist-packages (from requests->elevenlabs) (2022.12.7)\n",
            "Requirement already satisfied: idna<4,>=2.5 in /usr/local/lib/python3.9/dist-packages (from requests->elevenlabs) (3.4)\n",
            "Building wheels for collected packages: elevenlabs\n",
            "  Building wheel for elevenlabs (setup.py) ... \u001b[?25l\u001b[?25hdone\n",
            "  Created wheel for elevenlabs: filename=elevenlabs-0.1.1-py3-none-any.whl size=6632 sha256=94d5485129c69d08df22c1b5498bccbe078ac2d8f4635ee4f249a5783c55dd08\n",
            "  Stored in directory: /root/.cache/pip/wheels/78/a4/f7/2d6a87446add5c810b2bfdeb3b0d0270f83915d9e597602876\n",
            "Successfully built elevenlabs\n",
            "Installing collected packages: elevenlabs\n",
            "Successfully installed elevenlabs-0.1.1\n"
          ]
        }
      ]
    },
    {
      "cell_type": "code",
      "source": [
        "type(result['result'])"
      ],
      "metadata": {
        "id": "Kv4N59VZnviZ",
        "colab": {
          "base_uri": "https://localhost:8080/"
        },
        "outputId": "ed7ae0a3-d4d2-4cdd-cc49-6ddc0cdbf647"
      },
      "execution_count": 41,
      "outputs": [
        {
          "output_type": "execute_result",
          "data": {
            "text/plain": [
              "str"
            ]
          },
          "metadata": {},
          "execution_count": 41
        }
      ]
    },
    {
      "cell_type": "code",
      "source": [
        "print(result['result'])"
      ],
      "metadata": {
        "id": "_0zDIecynwQz",
        "colab": {
          "base_uri": "https://localhost:8080/"
        },
        "outputId": "57665a78-d717-44bc-8474-311e00aee2f6"
      },
      "execution_count": 42,
      "outputs": [
        {
          "output_type": "stream",
          "name": "stdout",
          "text": [
            " This document explores the idea of meditation and how it can help us better understand our relationships and life. It encourages us to accept what life is offering us, and that contraction, disappointment, dissatisfaction, and denial can all be seen as reasons we search for a remedy. In order to align with this new orientation, we need to surrender our will and trust in mindfulness. This can be done by connecting with everything, but believing nothing. It also suggests that when we realize how hopelessly lost we are in thinking, we can release the need to control the situation. In this way, we can move through our emotions with a quiet attention that leads to a harmonious and still mind, where we can see oneness.\n"
          ]
        }
      ]
    },
    {
      "cell_type": "markdown",
      "source": [
        "make sure to paste your elevenlabs API key below"
      ],
      "metadata": {
        "id": "R02yqCAF_-rF"
      }
    },
    {
      "cell_type": "code",
      "source": [
        "from elevenlabs import ElevenLabs\n",
        "api_key=\"PASTE_YOUR_ELEVENLABS_API_KEY_HERE\"\n",
        "eleven = ElevenLabs(api_key)\n",
        "\n",
        "# Get a Voice object, by name or UUID\n",
        "voice = eleven.voices[\"Arnold\"]\n",
        "\n",
        "# Generate the TTS\n",
        "audio = voice.generate(result['result'])\n",
        "\n",
        "# Save the TTS to a file named 'my_first_tts' in the working directory\n",
        "audio.save(\"my_first_tts\")"
      ],
      "metadata": {
        "id": "f491DK6Unlin",
        "colab": {
          "base_uri": "https://localhost:8080/",
          "height": 35
        },
        "outputId": "88cb048d-4d74-4f94-f5b1-cd6b7e71f6f7"
      },
      "execution_count": 43,
      "outputs": [
        {
          "output_type": "execute_result",
          "data": {
            "text/plain": [
              "'my_first_tts.mp3'"
            ],
            "application/vnd.google.colaboratory.intrinsic+json": {
              "type": "string"
            }
          },
          "metadata": {},
          "execution_count": 43
        }
      ]
    }
  ]
}