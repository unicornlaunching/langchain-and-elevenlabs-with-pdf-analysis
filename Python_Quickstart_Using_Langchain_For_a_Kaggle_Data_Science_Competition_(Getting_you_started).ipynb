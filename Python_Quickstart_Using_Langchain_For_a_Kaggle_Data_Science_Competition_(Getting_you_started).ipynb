{
  "nbformat": 4,
  "nbformat_minor": 0,
  "metadata": {
    "colab": {
      "provenance": []
    },
    "kernelspec": {
      "name": "python3",
      "display_name": "Python 3"
    },
    "language_info": {
      "name": "python"
    }
  },
  "cells": [
    {
      "cell_type": "markdown",
      "source": [
        "Tutorial based on: https://www.youtube.com/watch?v=xQ3mZhw69bc"
      ],
      "metadata": {
        "id": "9u5-ADNj_miq"
      }
    },
    {
      "cell_type": "code",
      "source": [
        "!pip -q install langchain openai"
      ],
      "metadata": {
        "id": "o-O9ALAf9DA0"
      },
      "execution_count": null,
      "outputs": []
    },
    {
      "cell_type": "code",
      "source": [
        "import os\n",
        "\n",
        "os.environ[\"OPENAI_API_KEY\"] = \"ENTER_YOUR_OPENAI_API_KEY_HERE\""
      ],
      "metadata": {
        "id": "EB1zQJ9Y9FEh"
      },
      "execution_count": null,
      "outputs": []
    },
    {
      "cell_type": "code",
      "source": [
        "!pip show langchain"
      ],
      "metadata": {
        "colab": {
          "base_uri": "https://localhost:8080/"
        },
        "id": "hLbEfCJU9KCZ",
        "outputId": "e443b1c1-5aee-4767-d914-382aa45bc16c"
      },
      "execution_count": null,
      "outputs": [
        {
          "output_type": "stream",
          "name": "stdout",
          "text": [
            "Name: langchain\n",
            "Version: 0.0.131\n",
            "Summary: Building applications with LLMs through composability\n",
            "Home-page: https://www.github.com/hwchase17/langchain\n",
            "Author: \n",
            "Author-email: \n",
            "License: MIT\n",
            "Location: /usr/local/lib/python3.9/dist-packages\n",
            "Requires: aiohttp, dataclasses-json, numpy, pydantic, PyYAML, requests, SQLAlchemy, tenacity\n",
            "Required-by: \n"
          ]
        }
      ]
    },
    {
      "cell_type": "markdown",
      "source": [
        "Kaggle dataset downloaded here:\n",
        "https://www.kaggle.com/datasets/dgoenrique/disney-movies-and-tv-shows"
      ],
      "metadata": {
        "id": "rI4r4v6e-6Fu"
      }
    },
    {
      "cell_type": "markdown",
      "source": [
        "Make sure to upload the CSV file on the left"
      ],
      "metadata": {
        "id": "W8S1K4tL_AG6"
      }
    },
    {
      "cell_type": "code",
      "source": [
        "import pandas as pd\n",
        "\n",
        "df = pd.read_csv('/content/titles.csv')"
      ],
      "metadata": {
        "id": "abGRJfny9NIB"
      },
      "execution_count": null,
      "outputs": []
    },
    {
      "cell_type": "code",
      "source": [
        "df.head()"
      ],
      "metadata": {
        "id": "M8xUB7RK9ccH"
      },
      "execution_count": null,
      "outputs": []
    },
    {
      "cell_type": "code",
      "source": [
        "from langchain.agents import create_csv_agent\n",
        "from langchain.llms import OpenAI"
      ],
      "metadata": {
        "id": "ngzC1bEu9i35"
      },
      "execution_count": null,
      "outputs": []
    },
    {
      "cell_type": "code",
      "source": [
        "agent = create_csv_agent(OpenAI(temperature=0), \n",
        "                         '/content/titles.csv', \n",
        "                         verbose=True)"
      ],
      "metadata": {
        "id": "2jHzswK19jsO"
      },
      "execution_count": null,
      "outputs": []
    },
    {
      "cell_type": "code",
      "source": [
        "agent"
      ],
      "metadata": {
        "colab": {
          "base_uri": "https://localhost:8080/"
        },
        "id": "ohDay7Yn-JH7",
        "outputId": "6a65e967-140e-4062-8323-86ee82159049"
      },
      "execution_count": null,
      "outputs": [
        {
          "output_type": "execute_result",
          "data": {
            "text/plain": [
              "AgentExecutor(memory=None, callback_manager=<langchain.callbacks.shared.SharedCallbackManager object at 0x7f387048aee0>, verbose=True, agent=ZeroShotAgent(llm_chain=LLMChain(memory=None, callback_manager=<langchain.callbacks.shared.SharedCallbackManager object at 0x7f387048aee0>, verbose=False, prompt=PromptTemplate(input_variables=['agent_scratchpad', 'input'], output_parser=None, partial_variables={'df': \"        id                                   title   type  \\\\\\n0  tm89464                  Miracle on 34th Street  MOVIE   \\n1  tm61729  The Adventures of Ichabod and Mr. Toad  MOVIE   \\n2  tm61052                              Cinderella  MOVIE   \\n3  tm87946                                   Dumbo  MOVIE   \\n4  tm74391                                Fantasia  MOVIE   \\n\\n                                         description  release_year  \\\\\\n0  Kris Kringle, seemingly the embodiment of Sant...          1947   \\n1  The Wind in the Willows: Concise version of Ke...          1950   \\n2  Cinderella has faith her dreams of a better li...          1950   \\n3  Dumbo is a baby elephant born with over-sized ...          1941   \\n4  Walt Disney's timeless masterpiece is an extra...          1941   \\n\\n  age_certification  runtime  \\\\\\n0                 G       96   \\n1                 G       68   \\n2                 G       74   \\n3                 G       64   \\n4                 G      119   \\n\\n                                              genres production_countries  \\\\\\n0                      ['family', 'comedy', 'drama']               ['US']   \\n1  ['horror', 'fantasy', 'animation', 'family', '...               ['US']   \\n2      ['fantasy', 'animation', 'family', 'romance']               ['US']   \\n3        ['animation', 'drama', 'family', 'fantasy']               ['US']   \\n4        ['animation', 'family', 'fantasy', 'music']               ['US']   \\n\\n   seasons    imdb_id  imdb_score  imdb_votes  tmdb_popularity  tmdb_score  \\n0      NaN  tt0039628         7.9     50969.0           23.515       7.388  \\n1      NaN  tt0041094         6.9     16502.0           16.194       6.500  \\n2      NaN  tt0042332         7.3    164292.0           93.547       7.035  \\n3      NaN  tt0033563         7.2    135045.0           54.265       6.999  \\n4      NaN  tt0032455         7.7     98764.0           43.609       7.382  \"}, template='\\nYou are working with a pandas dataframe in Python. The name of the dataframe is `df`.\\nYou should use the tools below to answer the question posed of you:\\n\\npython_repl_ast: A Python shell. Use this to execute python commands. Input should be a valid python command. When using this tool, sometimes output is abbreviated - make sure it does not look abbreviated before using it in your answer.\\n\\nUse the following format:\\n\\nQuestion: the input question you must answer\\nThought: you should always think about what to do\\nAction: the action to take, should be one of [python_repl_ast]\\nAction Input: the input to the action\\nObservation: the result of the action\\n... (this Thought/Action/Action Input/Observation can repeat N times)\\nThought: I now know the final answer\\nFinal Answer: the final answer to the original input question\\n\\n\\nThis is the result of `print(df.head())`:\\n{df}\\n\\nBegin!\\nQuestion: {input}\\n{agent_scratchpad}', template_format='f-string', validate_template=True), llm=OpenAI(cache=None, verbose=False, callback_manager=<langchain.callbacks.shared.SharedCallbackManager object at 0x7f387048aee0>, client=<class 'openai.api_resources.completion.Completion'>, model_name='text-davinci-003', temperature=0.0, max_tokens=256, top_p=1, frequency_penalty=0, presence_penalty=0, n=1, best_of=1, model_kwargs={}, openai_api_key=None, batch_size=20, request_timeout=None, logit_bias={}, max_retries=6, streaming=False), output_key='text'), allowed_tools=['python_repl_ast']), tools=[PythonAstREPLTool(name='python_repl_ast', description='A Python shell. Use this to execute python commands. Input should be a valid python command. When using this tool, sometimes output is abbreviated - make sure it does not look abbreviated before using it in your answer.', return_direct=False, verbose=False, callback_manager=<langchain.callbacks.shared.SharedCallbackManager object at 0x7f387048aee0>, globals={}, locals={'df':              id                                   title   type  \\\n",
              "0       tm89464                  Miracle on 34th Street  MOVIE   \n",
              "1       tm61729  The Adventures of Ichabod and Mr. Toad  MOVIE   \n",
              "2       tm61052                              Cinderella  MOVIE   \n",
              "3       tm87946                                   Dumbo  MOVIE   \n",
              "4       tm74391                                Fantasia  MOVIE   \n",
              "...         ...                                     ...    ...   \n",
              "1849   ts305794                         7 Toughest Days   SHOW   \n",
              "1850  tm1308301                Disney100 | Special Look  MOVIE   \n",
              "1851  tm1075680           World's Most Dangerous Shark?  MOVIE   \n",
              "1852  tm1227149                             Baby Sharks  MOVIE   \n",
              "1853  tm1306624             Inside Airport Lost & Found  MOVIE   \n",
              "\n",
              "                                            description  release_year  \\\n",
              "0     Kris Kringle, seemingly the embodiment of Sant...          1947   \n",
              "1     The Wind in the Willows: Concise version of Ke...          1950   \n",
              "2     Cinderella has faith her dreams of a better li...          1950   \n",
              "3     Dumbo is a baby elephant born with over-sized ...          1941   \n",
              "4     Walt Disney's timeless masterpiece is an extra...          1941   \n",
              "...                                                 ...           ...   \n",
              "1849  Dwayne Fields grew up around violent gangs and...          2023   \n",
              "1850  In 2023, Disney’s 100-year milestone provides ...          2023   \n",
              "1851  The Great White has a scary reputation, but Ex...          2023   \n",
              "1852  Even the biggest, fastest and fiercest predato...          2023   \n",
              "1853                                                NaN          2023   \n",
              "\n",
              "     age_certification  runtime  \\\n",
              "0                    G       96   \n",
              "1                    G       68   \n",
              "2                    G       74   \n",
              "3                    G       64   \n",
              "4                    G      119   \n",
              "...                ...      ...   \n",
              "1849             TV-PG       49   \n",
              "1850               NaN        1   \n",
              "1851             PG-13       44   \n",
              "1852                PG       45   \n",
              "1853                PG       44   \n",
              "\n",
              "                                                 genres production_countries  \\\n",
              "0                         ['family', 'comedy', 'drama']               ['US']   \n",
              "1     ['horror', 'fantasy', 'animation', 'family', '...               ['US']   \n",
              "2         ['fantasy', 'animation', 'family', 'romance']               ['US']   \n",
              "3           ['animation', 'drama', 'family', 'fantasy']               ['US']   \n",
              "4           ['animation', 'family', 'fantasy', 'music']               ['US']   \n",
              "...                                                 ...                  ...   \n",
              "1849             ['reality', 'documentation', 'action']               ['US']   \n",
              "1850                                                 []                   []   \n",
              "1851                                  ['documentation']                   []   \n",
              "1852                                  ['documentation']               ['US']   \n",
              "1853                                                 []                   []   \n",
              "\n",
              "      seasons     imdb_id  imdb_score  imdb_votes  tmdb_popularity  tmdb_score  \n",
              "0         NaN   tt0039628         7.9     50969.0           23.515       7.388  \n",
              "1         NaN   tt0041094         6.9     16502.0           16.194       6.500  \n",
              "2         NaN   tt0042332         7.3    164292.0           93.547       7.035  \n",
              "3         NaN   tt0033563         7.2    135045.0           54.265       6.999  \n",
              "4         NaN   tt0032455         7.7     98764.0           43.609       7.382  \n",
              "...       ...         ...         ...         ...              ...         ...  \n",
              "1849      1.0  tt15257974         7.8        23.0            3.733       2.000  \n",
              "1850      NaN         NaN         NaN         NaN            1.960         NaN  \n",
              "1851      NaN         NaN         NaN         NaN            1.623         NaN  \n",
              "1852      NaN  tt21271008         6.3        19.0            1.501       2.000  \n",
              "1853      NaN         NaN         NaN         NaN            0.600         NaN  \n",
              "\n",
              "[1854 rows x 15 columns]})], return_intermediate_steps=False, max_iterations=15, early_stopping_method='force')"
            ]
          },
          "metadata": {},
          "execution_count": 24
        }
      ]
    },
    {
      "cell_type": "code",
      "source": [
        "agent.agent.llm_chain.prompt.template"
      ],
      "metadata": {
        "colab": {
          "base_uri": "https://localhost:8080/",
          "height": 196
        },
        "id": "BkIOUU3K-Kug",
        "outputId": "98177905-6808-40b0-8c0b-851cbf1721e2"
      },
      "execution_count": null,
      "outputs": [
        {
          "output_type": "execute_result",
          "data": {
            "text/plain": [
              "'\\nYou are working with a pandas dataframe in Python. The name of the dataframe is `df`.\\nYou should use the tools below to answer the question posed of you:\\n\\npython_repl_ast: A Python shell. Use this to execute python commands. Input should be a valid python command. When using this tool, sometimes output is abbreviated - make sure it does not look abbreviated before using it in your answer.\\n\\nUse the following format:\\n\\nQuestion: the input question you must answer\\nThought: you should always think about what to do\\nAction: the action to take, should be one of [python_repl_ast]\\nAction Input: the input to the action\\nObservation: the result of the action\\n... (this Thought/Action/Action Input/Observation can repeat N times)\\nThought: I now know the final answer\\nFinal Answer: the final answer to the original input question\\n\\n\\nThis is the result of `print(df.head())`:\\n{df}\\n\\nBegin!\\nQuestion: {input}\\n{agent_scratchpad}'"
            ],
            "application/vnd.google.colaboratory.intrinsic+json": {
              "type": "string"
            }
          },
          "metadata": {},
          "execution_count": 25
        }
      ]
    },
    {
      "cell_type": "code",
      "source": [
        "agent.run(\"how many rows are there?\")"
      ],
      "metadata": {
        "colab": {
          "base_uri": "https://localhost:8080/",
          "height": 232
        },
        "id": "iK-VZuZm-N2r",
        "outputId": "713d03b7-0103-4344-8ccf-e92b86342f08"
      },
      "execution_count": null,
      "outputs": [
        {
          "output_type": "stream",
          "name": "stdout",
          "text": [
            "\n",
            "\n",
            "\u001b[1m> Entering new AgentExecutor chain...\u001b[0m\n",
            "\u001b[32;1m\u001b[1;3mThought: I need to count the number of rows\n",
            "Action: python_repl_ast\n",
            "Action Input: len(df)\u001b[0m\n",
            "Observation: \u001b[36;1m\u001b[1;3m1854\u001b[0m\n",
            "Thought:\u001b[32;1m\u001b[1;3m I now know the final answer\n",
            "Final Answer: 1854\u001b[0m\n",
            "\n",
            "\u001b[1m> Finished chain.\u001b[0m\n"
          ]
        },
        {
          "output_type": "execute_result",
          "data": {
            "text/plain": [
              "'1854'"
            ],
            "application/vnd.google.colaboratory.intrinsic+json": {
              "type": "string"
            }
          },
          "metadata": {},
          "execution_count": 26
        }
      ]
    },
    {
      "cell_type": "code",
      "source": [
        "agent.run(\"What's in this data\")"
      ],
      "metadata": {
        "colab": {
          "base_uri": "https://localhost:8080/",
          "height": 377
        },
        "id": "GYLaKFgo-PxW",
        "outputId": "8a08e14f-10c6-491c-f3ca-ef58ed48dba4"
      },
      "execution_count": null,
      "outputs": [
        {
          "output_type": "stream",
          "name": "stdout",
          "text": [
            "\n",
            "\n",
            "\u001b[1m> Entering new AgentExecutor chain...\u001b[0m\n",
            "\u001b[32;1m\u001b[1;3mThought: I need to look at the data\n",
            "Action: python_repl_ast\n",
            "Action Input: print(df.columns)\u001b[0mIndex(['id', 'title', 'type', 'description', 'release_year',\n",
            "       'age_certification', 'runtime', 'genres', 'production_countries',\n",
            "       'seasons', 'imdb_id', 'imdb_score', 'imdb_votes', 'tmdb_popularity',\n",
            "       'tmdb_score'],\n",
            "      dtype='object')\n",
            "\n",
            "Observation: \u001b[36;1m\u001b[1;3mNone\u001b[0m\n",
            "Thought:\u001b[32;1m\u001b[1;3m I now know the columns in the data\n",
            "Final Answer: The columns in this data are 'id', 'title', 'type', 'description', 'release_year', 'age_certification', 'runtime', 'genres', 'production_countries', 'seasons', 'imdb_id', 'imdb_score', 'imdb_votes', 'tmdb_popularity', and 'tmdb_score'.\u001b[0m\n",
            "\n",
            "\u001b[1m> Finished chain.\u001b[0m\n"
          ]
        },
        {
          "output_type": "execute_result",
          "data": {
            "text/plain": [
              "\"The columns in this data are 'id', 'title', 'type', 'description', 'release_year', 'age_certification', 'runtime', 'genres', 'production_countries', 'seasons', 'imdb_id', 'imdb_score', 'imdb_votes', 'tmdb_popularity', and 'tmdb_score'.\""
            ],
            "application/vnd.google.colaboratory.intrinsic+json": {
              "type": "string"
            }
          },
          "metadata": {},
          "execution_count": 27
        }
      ]
    },
    {
      "cell_type": "code",
      "source": [
        "agent.run(\"What do the column names tell us about what this dataset is about?\")"
      ],
      "metadata": {
        "colab": {
          "base_uri": "https://localhost:8080/",
          "height": 359
        },
        "id": "Xw4i5xmC-cci",
        "outputId": "4887c262-bf29-4d23-8c60-6c3b6dfd1b98"
      },
      "execution_count": null,
      "outputs": [
        {
          "output_type": "stream",
          "name": "stdout",
          "text": [
            "\n",
            "\n",
            "\u001b[1m> Entering new AgentExecutor chain...\u001b[0m\n",
            "\u001b[32;1m\u001b[1;3mThought: I should look at the column names and think about what they mean.\n",
            "Action: python_repl_ast\n",
            "Action Input: df.columns\u001b[0m\n",
            "Observation: \u001b[36;1m\u001b[1;3mIndex(['id', 'title', 'type', 'description', 'release_year',\n",
            "       'age_certification', 'runtime', 'genres', 'production_countries',\n",
            "       'seasons', 'imdb_id', 'imdb_score', 'imdb_votes', 'tmdb_popularity',\n",
            "       'tmdb_score'],\n",
            "      dtype='object')\u001b[0m\n",
            "Thought:\u001b[32;1m\u001b[1;3m I can see that the dataset is about movies and TV shows.\n",
            "Final Answer: This dataset is about movies and TV shows, as indicated by the column names such as 'title', 'type', 'release_year', 'age_certification', 'runtime', 'genres', 'production_countries', 'seasons', 'imdb_id', 'imdb_score', 'imdb_votes', 'tmdb_popularity', and 'tmdb_score'.\u001b[0m\n",
            "\n",
            "\u001b[1m> Finished chain.\u001b[0m\n"
          ]
        },
        {
          "output_type": "execute_result",
          "data": {
            "text/plain": [
              "\"This dataset is about movies and TV shows, as indicated by the column names such as 'title', 'type', 'release_year', 'age_certification', 'runtime', 'genres', 'production_countries', 'seasons', 'imdb_id', 'imdb_score', 'imdb_votes', 'tmdb_popularity', and 'tmdb_score'.\""
            ],
            "application/vnd.google.colaboratory.intrinsic+json": {
              "type": "string"
            }
          },
          "metadata": {},
          "execution_count": 28
        }
      ]
    }
  ]
}